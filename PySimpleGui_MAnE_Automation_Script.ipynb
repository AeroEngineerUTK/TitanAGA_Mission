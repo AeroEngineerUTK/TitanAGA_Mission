{
 "cells": [
  {
   "cell_type": "markdown",
   "metadata": {},
   "source": [
    "# PySimpleGUI - MAnE Automation - Python\n",
    "___"
   ]
  },
  {
   "cell_type": "code",
   "execution_count": 8,
   "metadata": {},
   "outputs": [],
   "source": [
    "import PySimpleGUI as sg\n",
    "\n",
    "sg.theme('DarkBlue10')   # Add a touch of color\n",
    "# All the stuff inside your window.\n",
    "layout = [  [sg.Text('Please Inputs For MAnE Automation Program', font=20)],\n",
    "            [sg.Text('________________________________________', font=10)],\n",
    "            [sg.Text('FileName:', size=(10, 1), font=12), sg.In(default_text='FirstNameLastName_Date', size=(25,1), font=12)],\n",
    "            [sg.Text('________________________________________', font=10)],\n",
    "            [sg.Text('Start-Hours:', size=(10, 1), font=12), sg.In(default_text='**',\n",
    "                size=(5, 1), font=12), sg.Text('End-Hours:', size=(9, 1), font=12),      \n",
    "                sg.In(default_text='**', size=(5, 1), font=12)],       \n",
    "            [sg.Text('Days:', size=(10,1), font=12), sg.In(default_text='****', size=(5,1), font=12)],\n",
    "            [sg.Text('Months', size=(10,1), font=12), sg.In(default_text='**', size=(5,1), font=12)],\n",
    "            [sg.Text('Years:', size=(10, 1), font=12), sg.In(default_text='**', size=(5,1), font=12)],\n",
    "            [sg.Button('Ok'), sg.Button('Cancel')] ]\n",
    "\n",
    "# Create the Window\n",
    "window = sg.Window('MAnE Automation - Dr. Lyne Senior Design', layout)\n",
    "# Event Loop to process \"events\" and get the \"values\" of the inputs\n",
    "while True:\n",
    "    event, values = window.read()\n",
    "    if event == sg.WIN_CLOSED or event == 'Cancel': # if user closes window or clicks cancel\n",
    "        break\n",
    "    print('---- Mission Variables ----')\n",
    "    print('FileName:', values[0])\n",
    "    print('Start-Hours:', values[1])\n",
    "    print('End-Hours:', values[2])\n",
    "    print('Days:', values[3])\n",
    "    print('Months:', values[4])\n",
    "    print('Years:', values[5])\n",
    "    print('---- End of Variables ----')\n",
    "    \n",
    "    # Defining Variables For Automation Script Below\n",
    "    FileName = values[0]\n",
    "    STHR = int(values[1])\n",
    "    EDHR = int(values[2])\n",
    "    days = int(values[3])\n",
    "    months = int(values[4])\n",
    "    years = int(values[5])\n",
    "    \n",
    "    # Manipulating Outputs\n",
    "    STEP = 1 # Step Size\n",
    "    hours = range(STHR,EDHR+1,STEP) # Hours Interval\n",
    "    \n",
    "#     Testing Hours w/ Loop\n",
    "    for n in hours:\n",
    "      print(n)\n",
    "\n",
    "    \n",
    "    #### START OF GABE'S CODE ####\n",
    "    \n",
    "    \n",
    "    \n",
    "    \n",
    "    #### END OF GABE'S CODE ####\n",
    "    \n",
    "window.close()"
   ]
  }
 ],
 "metadata": {
  "kernelspec": {
   "display_name": "Python 3",
   "language": "python",
   "name": "python3"
  },
  "language_info": {
   "codemirror_mode": {
    "name": "ipython",
    "version": 3
   },
   "file_extension": ".py",
   "mimetype": "text/x-python",
   "name": "python",
   "nbconvert_exporter": "python",
   "pygments_lexer": "ipython3",
   "version": "3.6.5"
  }
 },
 "nbformat": 4,
 "nbformat_minor": 4
}
